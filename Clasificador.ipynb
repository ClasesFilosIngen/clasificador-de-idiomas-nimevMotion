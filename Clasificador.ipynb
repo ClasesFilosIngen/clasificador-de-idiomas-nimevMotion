{
 "cells": [
  {
   "cell_type": "code",
   "execution_count": 44,
   "metadata": {},
   "outputs": [
    {
     "name": "stdout",
     "output_type": "stream",
     "text": [
      "El documento está en Español\n"
     ]
    },
    {
     "data": {
      "text/plain": [
       "<matplotlib.axes._subplots.AxesSubplot at 0xf1d0f98>"
      ]
     },
     "execution_count": 44,
     "metadata": {},
     "output_type": "execute_result"
    },
    {
     "data": {
      "image/png": "[encoded data removed]",
      "text/plain": [
       "<Figure size 432x288 with 2 Axes>"
      ]
     },
     "metadata": {
      "needs_background": "light"
     },
     "output_type": "display_data"
    }
   ],
   "source": [
    "import pandas as pd\n",
    "import math\n",
    "import seaborn as sns; sns.set()\n",
    "import matplotlib.pyplot as plt\n",
    "\n",
    "coleccion =\t{}\n",
    "\n",
    "def preproceso(raw,n):\n",
    "    rawS=raw.split()\n",
    "    x=iter(rawS)\n",
    "    i=0\n",
    "    for x in rawS:\n",
    "        x=x.decode('cp1252').encode('utf-8')\n",
    "        x=x.replace(\".\",\"\")\n",
    "        x=x.replace(\",\",\"\")\n",
    "        x=x.replace(\"-\",\"\")\n",
    "        x=x.replace(\"[\",\"\")\n",
    "        x=x.replace(\"]\",\"\")\n",
    "        x=x.replace(\"_\",\"\")\n",
    "        x=x.replace(\"&\",\"\")\n",
    "        x=x.replace(\":\",\"\")\n",
    "        x=x.replace(\";\",\"\")\n",
    "        x=x.replace(\"(\",\"\")\n",
    "        x=x.replace(\")\",\"\")\n",
    "        x=x.replace(\"=\",\"\")\n",
    "        #print x\n",
    "        ngramas(x.lower(),n)\n",
    "        #rawS[i]=x\n",
    "        i=i+1\n",
    "        palabra(x.lower())\n",
    "    return 0\n",
    "\n",
    "def ngramas (cadena,n):\n",
    "    global coleccion\n",
    "        \n",
    "    if n>=len(cadena):\n",
    "        if cadena in coleccion.keys():\n",
    "            vector=coleccion.get(cadena)\n",
    "            vector[0]=vector[0]+1\n",
    "            coleccion.update({cadena:vector})\n",
    "        else:\n",
    "            vector=[0,0,0,0]\n",
    "            vector[0]=vector[0]+1\n",
    "            coleccion.update({cadena:vector})\n",
    "            \n",
    "        return\n",
    "    else:\n",
    "        auxCadena=cadena[0:n]\n",
    "        if auxCadena in coleccion.keys():\n",
    "            vector=coleccion.get(auxCadena)\n",
    "            vector[0]=vector[0]+1\n",
    "            coleccion.update({auxCadena:vector})\n",
    "        else:\n",
    "            vector=[0,0,0,0]\n",
    "            vector[0]=vector[0]+1\n",
    "            coleccion.update({auxCadena:vector})\n",
    "            #print auxCadena\n",
    "        \n",
    "        ngramas(cadena[1:],n)\n",
    "        return\n",
    "    \n",
    "def palabra(cadena):\n",
    "    global coleccion\n",
    "    \n",
    "    if cadena in coleccion.keys():\n",
    "        vector=coleccion.get(cadena)\n",
    "        vector[0]=vector[0]+1\n",
    "        coleccion.update({cadena:vector})\n",
    "    else:\n",
    "        vector=[0,0,0,0]\n",
    "        vector[0]=vector[0]+1\n",
    "        coleccion.update({cadena:vector})\n",
    "    return\n",
    "\n",
    "#main\n",
    "texto = open('texto.txt')\n",
    "data = texto.read()\n",
    "frameCSV= pd.read_csv('Clasificador.csv')\n",
    "for grama in range(1):\n",
    "    grama=3\n",
    "    preproceso(data,grama)\n",
    "#coleccion.pop(\"\")\n",
    "vector=coleccion.keys()\n",
    "auxVec=[0,0,0,0]\n",
    "aux=[0,0,0,0]\n",
    "auxValue=0\n",
    "totENG=0\n",
    "totESP=0\n",
    "totPOR=0\n",
    "for x in range(len(vector)):\n",
    "    if vector[x] in frameCSV.head():\n",
    "        auxVec=coleccion.get(vector[x])\n",
    "        auxValue=auxVec[0]\n",
    "        aux=frameCSV.get(vector[x])\n",
    "        if aux[0]>aux[1]:\n",
    "            if aux[0]>aux[2]:\n",
    "                auxVec[1]=auxValue\n",
    "            else:\n",
    "                auxVec[3]=auxValue\n",
    "        elif aux[1]>aux[2]:\n",
    "            auxVec[2]=auxValue\n",
    "        else:\n",
    "            auxVec[3]=auxValue\n",
    "        auxVec[0]=auxValue\n",
    "        totPOR=totPOR+auxVec[3]\n",
    "        totESP=totESP+auxVec[2]\n",
    "        totENG=totENG+auxVec[1]\n",
    "        coleccion.update({vector[x]:auxVec})\n",
    "        #print vector[x].decode('cp1252').encode('utf-8')\n",
    "frame=pd.DataFrame(coleccion)\n",
    "#frame.index=[\"total\",\"Ingles\",\"Español\",\"Portugues\"]\n",
    "frame.to_csv('ejemplo.csv',index=False)\n",
    "#print frame\n",
    "#print totENG\n",
    "#print totESP\n",
    "#print totPOR\n",
    "if totENG>totESP:\n",
    "    if totENG>totPOR:\n",
    "        print \"El documento está en Íngles\"\n",
    "    else:\n",
    "        print \"El documento está en Portugues\"\n",
    "elif totESP>totPOR:\n",
    "    print \"El documento está en Español\"\n",
    "else:\n",
    "    print \"El documento está en Portugues\"\n"
   ]
  },
  {
   "cell_type": "code",
   "execution_count": null,
   "metadata": {},
   "outputs": [],
   "source": []
  },
  {
   "cell_type": "code",
   "execution_count": null,
   "metadata": {},
   "outputs": [],
   "source": []
  }
 ],
 "metadata": {
  "kernelspec": {
   "display_name": "Python 2",
   "language": "python",
   "name": "python2"
  },
  "language_info": {
   "codemirror_mode": {
    "name": "ipython",
    "version": 2
   },
   "file_extension": ".py",
   "mimetype": "text/x-python",
   "name": "python",
   "nbconvert_exporter": "python",
   "pygments_lexer": "ipython2",
   "version": "2.7.16"
  }
 },
 "nbformat": 4,
 "nbformat_minor": 2
}
